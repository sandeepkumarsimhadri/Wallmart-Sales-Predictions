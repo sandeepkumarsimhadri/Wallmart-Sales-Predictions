{
 "cells": [
  {
   "cell_type": "code",
   "execution_count": 53,
   "id": "ea9cd0fb",
   "metadata": {},
   "outputs": [],
   "source": [
    "import pandas as pd\n",
    "import matplotlib.pyplot as plt\n",
    "import seaborn as sns\n",
    "import numpy as np\n",
    "from sklearn.experimental import enable_iterative_imputer\n",
    "from sklearn.impute import IterativeImputer\n",
    "from sklearn.linear_model import LinearRegression\n",
    "from sklearn.preprocessing import StandardScaler,LabelEncoder\n",
    "from sklearn.model_selection import train_test_split\n",
    "import warnings\n",
    "warnings.filterwarnings('ignore')\n",
    "from sklearn.svm import SVR"
   ]
  },
  {
   "cell_type": "code",
   "execution_count": 2,
   "id": "cc84a8eb",
   "metadata": {},
   "outputs": [
    {
     "data": {
      "text/html": [
       "<div>\n",
       "<style scoped>\n",
       "    .dataframe tbody tr th:only-of-type {\n",
       "        vertical-align: middle;\n",
       "    }\n",
       "\n",
       "    .dataframe tbody tr th {\n",
       "        vertical-align: top;\n",
       "    }\n",
       "\n",
       "    .dataframe thead th {\n",
       "        text-align: right;\n",
       "    }\n",
       "</style>\n",
       "<table border=\"1\" class=\"dataframe\">\n",
       "  <thead>\n",
       "    <tr style=\"text-align: right;\">\n",
       "      <th></th>\n",
       "      <th>ProductID</th>\n",
       "      <th>Weight</th>\n",
       "      <th>FatContent</th>\n",
       "      <th>ProductVisibility</th>\n",
       "      <th>ProductType</th>\n",
       "      <th>MRP</th>\n",
       "      <th>OutletID</th>\n",
       "      <th>EstablishmentYear</th>\n",
       "      <th>OutletSize</th>\n",
       "      <th>LocationType</th>\n",
       "      <th>OutletType</th>\n",
       "      <th>OutletSales</th>\n",
       "    </tr>\n",
       "  </thead>\n",
       "  <tbody>\n",
       "    <tr>\n",
       "      <th>0</th>\n",
       "      <td>FDA15</td>\n",
       "      <td>9.300</td>\n",
       "      <td>Low Fat</td>\n",
       "      <td>0.016047</td>\n",
       "      <td>Dairy</td>\n",
       "      <td>249.8092</td>\n",
       "      <td>OUT049</td>\n",
       "      <td>1999</td>\n",
       "      <td>Medium</td>\n",
       "      <td>Tier 1</td>\n",
       "      <td>Supermarket Type1</td>\n",
       "      <td>3735.1380</td>\n",
       "    </tr>\n",
       "    <tr>\n",
       "      <th>1</th>\n",
       "      <td>DRC01</td>\n",
       "      <td>5.920</td>\n",
       "      <td>Regular</td>\n",
       "      <td>0.019278</td>\n",
       "      <td>Soft Drinks</td>\n",
       "      <td>48.2692</td>\n",
       "      <td>OUT018</td>\n",
       "      <td>2009</td>\n",
       "      <td>Medium</td>\n",
       "      <td>Tier 3</td>\n",
       "      <td>Supermarket Type2</td>\n",
       "      <td>443.4228</td>\n",
       "    </tr>\n",
       "    <tr>\n",
       "      <th>2</th>\n",
       "      <td>FDN15</td>\n",
       "      <td>17.500</td>\n",
       "      <td>Low Fat</td>\n",
       "      <td>0.016760</td>\n",
       "      <td>Meat</td>\n",
       "      <td>141.6180</td>\n",
       "      <td>OUT049</td>\n",
       "      <td>1999</td>\n",
       "      <td>Medium</td>\n",
       "      <td>Tier 1</td>\n",
       "      <td>Supermarket Type1</td>\n",
       "      <td>2097.2700</td>\n",
       "    </tr>\n",
       "    <tr>\n",
       "      <th>3</th>\n",
       "      <td>FDX07</td>\n",
       "      <td>19.200</td>\n",
       "      <td>Regular</td>\n",
       "      <td>0.000000</td>\n",
       "      <td>Fruits and Vegetables</td>\n",
       "      <td>182.0950</td>\n",
       "      <td>OUT010</td>\n",
       "      <td>1998</td>\n",
       "      <td>NaN</td>\n",
       "      <td>Tier 3</td>\n",
       "      <td>Grocery Store</td>\n",
       "      <td>732.3800</td>\n",
       "    </tr>\n",
       "    <tr>\n",
       "      <th>4</th>\n",
       "      <td>NCD19</td>\n",
       "      <td>8.930</td>\n",
       "      <td>Low Fat</td>\n",
       "      <td>0.000000</td>\n",
       "      <td>Household</td>\n",
       "      <td>53.8614</td>\n",
       "      <td>OUT013</td>\n",
       "      <td>1987</td>\n",
       "      <td>High</td>\n",
       "      <td>Tier 3</td>\n",
       "      <td>Supermarket Type1</td>\n",
       "      <td>994.7052</td>\n",
       "    </tr>\n",
       "    <tr>\n",
       "      <th>...</th>\n",
       "      <td>...</td>\n",
       "      <td>...</td>\n",
       "      <td>...</td>\n",
       "      <td>...</td>\n",
       "      <td>...</td>\n",
       "      <td>...</td>\n",
       "      <td>...</td>\n",
       "      <td>...</td>\n",
       "      <td>...</td>\n",
       "      <td>...</td>\n",
       "      <td>...</td>\n",
       "      <td>...</td>\n",
       "    </tr>\n",
       "    <tr>\n",
       "      <th>8518</th>\n",
       "      <td>FDF22</td>\n",
       "      <td>6.865</td>\n",
       "      <td>Low Fat</td>\n",
       "      <td>0.056783</td>\n",
       "      <td>Snack Foods</td>\n",
       "      <td>214.5218</td>\n",
       "      <td>OUT013</td>\n",
       "      <td>1987</td>\n",
       "      <td>High</td>\n",
       "      <td>Tier 3</td>\n",
       "      <td>Supermarket Type1</td>\n",
       "      <td>2778.3834</td>\n",
       "    </tr>\n",
       "    <tr>\n",
       "      <th>8519</th>\n",
       "      <td>FDS36</td>\n",
       "      <td>8.380</td>\n",
       "      <td>Regular</td>\n",
       "      <td>0.046982</td>\n",
       "      <td>Baking Goods</td>\n",
       "      <td>108.1570</td>\n",
       "      <td>OUT045</td>\n",
       "      <td>2002</td>\n",
       "      <td>NaN</td>\n",
       "      <td>Tier 2</td>\n",
       "      <td>Supermarket Type1</td>\n",
       "      <td>549.2850</td>\n",
       "    </tr>\n",
       "    <tr>\n",
       "      <th>8520</th>\n",
       "      <td>NCJ29</td>\n",
       "      <td>10.600</td>\n",
       "      <td>Low Fat</td>\n",
       "      <td>0.035186</td>\n",
       "      <td>Health and Hygiene</td>\n",
       "      <td>85.1224</td>\n",
       "      <td>OUT035</td>\n",
       "      <td>2004</td>\n",
       "      <td>Small</td>\n",
       "      <td>Tier 2</td>\n",
       "      <td>Supermarket Type1</td>\n",
       "      <td>1193.1136</td>\n",
       "    </tr>\n",
       "    <tr>\n",
       "      <th>8521</th>\n",
       "      <td>FDN46</td>\n",
       "      <td>7.210</td>\n",
       "      <td>Regular</td>\n",
       "      <td>0.145221</td>\n",
       "      <td>Snack Foods</td>\n",
       "      <td>103.1332</td>\n",
       "      <td>OUT018</td>\n",
       "      <td>2009</td>\n",
       "      <td>Medium</td>\n",
       "      <td>Tier 3</td>\n",
       "      <td>Supermarket Type2</td>\n",
       "      <td>1845.5976</td>\n",
       "    </tr>\n",
       "    <tr>\n",
       "      <th>8522</th>\n",
       "      <td>DRG01</td>\n",
       "      <td>14.800</td>\n",
       "      <td>Low Fat</td>\n",
       "      <td>0.044878</td>\n",
       "      <td>Soft Drinks</td>\n",
       "      <td>75.4670</td>\n",
       "      <td>OUT046</td>\n",
       "      <td>1997</td>\n",
       "      <td>Small</td>\n",
       "      <td>Tier 1</td>\n",
       "      <td>Supermarket Type1</td>\n",
       "      <td>765.6700</td>\n",
       "    </tr>\n",
       "  </tbody>\n",
       "</table>\n",
       "<p>8523 rows × 12 columns</p>\n",
       "</div>"
      ],
      "text/plain": [
       "     ProductID  Weight FatContent  ProductVisibility            ProductType  \\\n",
       "0        FDA15   9.300    Low Fat           0.016047                  Dairy   \n",
       "1        DRC01   5.920    Regular           0.019278            Soft Drinks   \n",
       "2        FDN15  17.500    Low Fat           0.016760                   Meat   \n",
       "3        FDX07  19.200    Regular           0.000000  Fruits and Vegetables   \n",
       "4        NCD19   8.930    Low Fat           0.000000              Household   \n",
       "...        ...     ...        ...                ...                    ...   \n",
       "8518     FDF22   6.865    Low Fat           0.056783            Snack Foods   \n",
       "8519     FDS36   8.380    Regular           0.046982           Baking Goods   \n",
       "8520     NCJ29  10.600    Low Fat           0.035186     Health and Hygiene   \n",
       "8521     FDN46   7.210    Regular           0.145221            Snack Foods   \n",
       "8522     DRG01  14.800    Low Fat           0.044878            Soft Drinks   \n",
       "\n",
       "           MRP OutletID  EstablishmentYear OutletSize LocationType  \\\n",
       "0     249.8092   OUT049               1999     Medium       Tier 1   \n",
       "1      48.2692   OUT018               2009     Medium       Tier 3   \n",
       "2     141.6180   OUT049               1999     Medium       Tier 1   \n",
       "3     182.0950   OUT010               1998        NaN       Tier 3   \n",
       "4      53.8614   OUT013               1987       High       Tier 3   \n",
       "...        ...      ...                ...        ...          ...   \n",
       "8518  214.5218   OUT013               1987       High       Tier 3   \n",
       "8519  108.1570   OUT045               2002        NaN       Tier 2   \n",
       "8520   85.1224   OUT035               2004      Small       Tier 2   \n",
       "8521  103.1332   OUT018               2009     Medium       Tier 3   \n",
       "8522   75.4670   OUT046               1997      Small       Tier 1   \n",
       "\n",
       "             OutletType  OutletSales  \n",
       "0     Supermarket Type1    3735.1380  \n",
       "1     Supermarket Type2     443.4228  \n",
       "2     Supermarket Type1    2097.2700  \n",
       "3         Grocery Store     732.3800  \n",
       "4     Supermarket Type1     994.7052  \n",
       "...                 ...          ...  \n",
       "8518  Supermarket Type1    2778.3834  \n",
       "8519  Supermarket Type1     549.2850  \n",
       "8520  Supermarket Type1    1193.1136  \n",
       "8521  Supermarket Type2    1845.5976  \n",
       "8522  Supermarket Type1     765.6700  \n",
       "\n",
       "[8523 rows x 12 columns]"
      ]
     },
     "execution_count": 2,
     "metadata": {},
     "output_type": "execute_result"
    }
   ],
   "source": [
    "tr_df=pd.read_csv('Train-Set.csv')\n",
    "tr_df"
   ]
  },
  {
   "cell_type": "code",
   "execution_count": 3,
   "id": "6fe6ec96",
   "metadata": {},
   "outputs": [],
   "source": [
    "#Continous cols in dataset\n",
    "con_cols=[col for col in tr_df.columns if tr_df[col].dtype=='int64' or tr_df[col].dtype=='float64']"
   ]
  },
  {
   "cell_type": "code",
   "execution_count": 4,
   "id": "c9064399",
   "metadata": {},
   "outputs": [],
   "source": [
    "#Loop to detect and remove outliers in all cont cols\n",
    "#for col in con_cols:\n",
    " #   q1=tr_df[col].quantile(0.25)\n",
    "  #  q3=tr_df[col].quantile(0.75)\n",
    "   # iqr=q3-q1\n",
    "    #lvo=q1-1.5*iqr\n",
    "    #hvo=q3+1.5*iqr\n",
    "    #tr_df_out=tr_df.loc[(tr_df[col]>lvo) & (tr_df[col]< hvo)]"
   ]
  },
  {
   "cell_type": "code",
   "execution_count": 5,
   "id": "8f334c09",
   "metadata": {},
   "outputs": [
    {
     "data": {
      "text/html": [
       "<div>\n",
       "<style scoped>\n",
       "    .dataframe tbody tr th:only-of-type {\n",
       "        vertical-align: middle;\n",
       "    }\n",
       "\n",
       "    .dataframe tbody tr th {\n",
       "        vertical-align: top;\n",
       "    }\n",
       "\n",
       "    .dataframe thead th {\n",
       "        text-align: right;\n",
       "    }\n",
       "</style>\n",
       "<table border=\"1\" class=\"dataframe\">\n",
       "  <thead>\n",
       "    <tr style=\"text-align: right;\">\n",
       "      <th></th>\n",
       "      <th>ProductID</th>\n",
       "      <th>Weight</th>\n",
       "      <th>FatContent</th>\n",
       "      <th>ProductVisibility</th>\n",
       "      <th>ProductType</th>\n",
       "      <th>MRP</th>\n",
       "      <th>OutletID</th>\n",
       "      <th>EstablishmentYear</th>\n",
       "      <th>OutletSize</th>\n",
       "      <th>LocationType</th>\n",
       "      <th>OutletType</th>\n",
       "      <th>OutletSales</th>\n",
       "    </tr>\n",
       "  </thead>\n",
       "  <tbody>\n",
       "    <tr>\n",
       "      <th>0</th>\n",
       "      <td>FDA15</td>\n",
       "      <td>9.300</td>\n",
       "      <td>Low Fat</td>\n",
       "      <td>0.016047</td>\n",
       "      <td>Dairy</td>\n",
       "      <td>249.8092</td>\n",
       "      <td>OUT049</td>\n",
       "      <td>1999</td>\n",
       "      <td>Medium</td>\n",
       "      <td>Tier 1</td>\n",
       "      <td>Supermarket Type1</td>\n",
       "      <td>3735.1380</td>\n",
       "    </tr>\n",
       "    <tr>\n",
       "      <th>1</th>\n",
       "      <td>DRC01</td>\n",
       "      <td>5.920</td>\n",
       "      <td>Regular</td>\n",
       "      <td>0.019278</td>\n",
       "      <td>Soft Drinks</td>\n",
       "      <td>48.2692</td>\n",
       "      <td>OUT018</td>\n",
       "      <td>2009</td>\n",
       "      <td>Medium</td>\n",
       "      <td>Tier 3</td>\n",
       "      <td>Supermarket Type2</td>\n",
       "      <td>443.4228</td>\n",
       "    </tr>\n",
       "    <tr>\n",
       "      <th>2</th>\n",
       "      <td>FDN15</td>\n",
       "      <td>17.500</td>\n",
       "      <td>Low Fat</td>\n",
       "      <td>0.016760</td>\n",
       "      <td>Meat</td>\n",
       "      <td>141.6180</td>\n",
       "      <td>OUT049</td>\n",
       "      <td>1999</td>\n",
       "      <td>Medium</td>\n",
       "      <td>Tier 1</td>\n",
       "      <td>Supermarket Type1</td>\n",
       "      <td>2097.2700</td>\n",
       "    </tr>\n",
       "    <tr>\n",
       "      <th>3</th>\n",
       "      <td>FDX07</td>\n",
       "      <td>19.200</td>\n",
       "      <td>Regular</td>\n",
       "      <td>0.000000</td>\n",
       "      <td>Fruits and Vegetables</td>\n",
       "      <td>182.0950</td>\n",
       "      <td>OUT010</td>\n",
       "      <td>1998</td>\n",
       "      <td>NaN</td>\n",
       "      <td>Tier 3</td>\n",
       "      <td>Grocery Store</td>\n",
       "      <td>732.3800</td>\n",
       "    </tr>\n",
       "    <tr>\n",
       "      <th>4</th>\n",
       "      <td>NCD19</td>\n",
       "      <td>8.930</td>\n",
       "      <td>Low Fat</td>\n",
       "      <td>0.000000</td>\n",
       "      <td>Household</td>\n",
       "      <td>53.8614</td>\n",
       "      <td>OUT013</td>\n",
       "      <td>1987</td>\n",
       "      <td>High</td>\n",
       "      <td>Tier 3</td>\n",
       "      <td>Supermarket Type1</td>\n",
       "      <td>994.7052</td>\n",
       "    </tr>\n",
       "    <tr>\n",
       "      <th>...</th>\n",
       "      <td>...</td>\n",
       "      <td>...</td>\n",
       "      <td>...</td>\n",
       "      <td>...</td>\n",
       "      <td>...</td>\n",
       "      <td>...</td>\n",
       "      <td>...</td>\n",
       "      <td>...</td>\n",
       "      <td>...</td>\n",
       "      <td>...</td>\n",
       "      <td>...</td>\n",
       "      <td>...</td>\n",
       "    </tr>\n",
       "    <tr>\n",
       "      <th>8518</th>\n",
       "      <td>FDF22</td>\n",
       "      <td>6.865</td>\n",
       "      <td>Low Fat</td>\n",
       "      <td>0.056783</td>\n",
       "      <td>Snack Foods</td>\n",
       "      <td>214.5218</td>\n",
       "      <td>OUT013</td>\n",
       "      <td>1987</td>\n",
       "      <td>High</td>\n",
       "      <td>Tier 3</td>\n",
       "      <td>Supermarket Type1</td>\n",
       "      <td>2778.3834</td>\n",
       "    </tr>\n",
       "    <tr>\n",
       "      <th>8519</th>\n",
       "      <td>FDS36</td>\n",
       "      <td>8.380</td>\n",
       "      <td>Regular</td>\n",
       "      <td>0.046982</td>\n",
       "      <td>Baking Goods</td>\n",
       "      <td>108.1570</td>\n",
       "      <td>OUT045</td>\n",
       "      <td>2002</td>\n",
       "      <td>NaN</td>\n",
       "      <td>Tier 2</td>\n",
       "      <td>Supermarket Type1</td>\n",
       "      <td>549.2850</td>\n",
       "    </tr>\n",
       "    <tr>\n",
       "      <th>8520</th>\n",
       "      <td>NCJ29</td>\n",
       "      <td>10.600</td>\n",
       "      <td>Low Fat</td>\n",
       "      <td>0.035186</td>\n",
       "      <td>Health and Hygiene</td>\n",
       "      <td>85.1224</td>\n",
       "      <td>OUT035</td>\n",
       "      <td>2004</td>\n",
       "      <td>Small</td>\n",
       "      <td>Tier 2</td>\n",
       "      <td>Supermarket Type1</td>\n",
       "      <td>1193.1136</td>\n",
       "    </tr>\n",
       "    <tr>\n",
       "      <th>8521</th>\n",
       "      <td>FDN46</td>\n",
       "      <td>7.210</td>\n",
       "      <td>Regular</td>\n",
       "      <td>0.145221</td>\n",
       "      <td>Snack Foods</td>\n",
       "      <td>103.1332</td>\n",
       "      <td>OUT018</td>\n",
       "      <td>2009</td>\n",
       "      <td>Medium</td>\n",
       "      <td>Tier 3</td>\n",
       "      <td>Supermarket Type2</td>\n",
       "      <td>1845.5976</td>\n",
       "    </tr>\n",
       "    <tr>\n",
       "      <th>8522</th>\n",
       "      <td>DRG01</td>\n",
       "      <td>14.800</td>\n",
       "      <td>Low Fat</td>\n",
       "      <td>0.044878</td>\n",
       "      <td>Soft Drinks</td>\n",
       "      <td>75.4670</td>\n",
       "      <td>OUT046</td>\n",
       "      <td>1997</td>\n",
       "      <td>Small</td>\n",
       "      <td>Tier 1</td>\n",
       "      <td>Supermarket Type1</td>\n",
       "      <td>765.6700</td>\n",
       "    </tr>\n",
       "  </tbody>\n",
       "</table>\n",
       "<p>8523 rows × 12 columns</p>\n",
       "</div>"
      ],
      "text/plain": [
       "     ProductID  Weight FatContent  ProductVisibility            ProductType  \\\n",
       "0        FDA15   9.300    Low Fat           0.016047                  Dairy   \n",
       "1        DRC01   5.920    Regular           0.019278            Soft Drinks   \n",
       "2        FDN15  17.500    Low Fat           0.016760                   Meat   \n",
       "3        FDX07  19.200    Regular           0.000000  Fruits and Vegetables   \n",
       "4        NCD19   8.930    Low Fat           0.000000              Household   \n",
       "...        ...     ...        ...                ...                    ...   \n",
       "8518     FDF22   6.865    Low Fat           0.056783            Snack Foods   \n",
       "8519     FDS36   8.380    Regular           0.046982           Baking Goods   \n",
       "8520     NCJ29  10.600    Low Fat           0.035186     Health and Hygiene   \n",
       "8521     FDN46   7.210    Regular           0.145221            Snack Foods   \n",
       "8522     DRG01  14.800    Low Fat           0.044878            Soft Drinks   \n",
       "\n",
       "           MRP OutletID  EstablishmentYear OutletSize LocationType  \\\n",
       "0     249.8092   OUT049               1999     Medium       Tier 1   \n",
       "1      48.2692   OUT018               2009     Medium       Tier 3   \n",
       "2     141.6180   OUT049               1999     Medium       Tier 1   \n",
       "3     182.0950   OUT010               1998        NaN       Tier 3   \n",
       "4      53.8614   OUT013               1987       High       Tier 3   \n",
       "...        ...      ...                ...        ...          ...   \n",
       "8518  214.5218   OUT013               1987       High       Tier 3   \n",
       "8519  108.1570   OUT045               2002        NaN       Tier 2   \n",
       "8520   85.1224   OUT035               2004      Small       Tier 2   \n",
       "8521  103.1332   OUT018               2009     Medium       Tier 3   \n",
       "8522   75.4670   OUT046               1997      Small       Tier 1   \n",
       "\n",
       "             OutletType  OutletSales  \n",
       "0     Supermarket Type1    3735.1380  \n",
       "1     Supermarket Type2     443.4228  \n",
       "2     Supermarket Type1    2097.2700  \n",
       "3         Grocery Store     732.3800  \n",
       "4     Supermarket Type1     994.7052  \n",
       "...                 ...          ...  \n",
       "8518  Supermarket Type1    2778.3834  \n",
       "8519  Supermarket Type1     549.2850  \n",
       "8520  Supermarket Type1    1193.1136  \n",
       "8521  Supermarket Type2    1845.5976  \n",
       "8522  Supermarket Type1     765.6700  \n",
       "\n",
       "[8523 rows x 12 columns]"
      ]
     },
     "execution_count": 5,
     "metadata": {},
     "output_type": "execute_result"
    }
   ],
   "source": [
    "tr_df"
   ]
  },
  {
   "cell_type": "code",
   "execution_count": 6,
   "id": "46a58eb9",
   "metadata": {},
   "outputs": [],
   "source": [
    "#creating output variable and droping from main DF\n",
    "y=tr_df['OutletSales']\n",
    "tr_df.drop(columns='OutletSales',inplace=True)"
   ]
  },
  {
   "cell_type": "code",
   "execution_count": 7,
   "id": "31826b8d",
   "metadata": {},
   "outputs": [],
   "source": [
    "#Continous cols in dataset\n",
    "con_cols_new=[col for col in tr_df.columns if tr_df[col].dtype=='int64' or tr_df[col].dtype=='float64']"
   ]
  },
  {
   "cell_type": "code",
   "execution_count": 8,
   "id": "183f90de",
   "metadata": {},
   "outputs": [
    {
     "data": {
      "text/plain": [
       "['ProductID',\n",
       " 'FatContent',\n",
       " 'ProductType',\n",
       " 'OutletID',\n",
       " 'OutletSize',\n",
       " 'LocationType',\n",
       " 'OutletType']"
      ]
     },
     "execution_count": 8,
     "metadata": {},
     "output_type": "execute_result"
    }
   ],
   "source": [
    "#cat cols in dataset\n",
    "cat_cols_new=[col for col in tr_df.columns if tr_df[col].dtype=='object']\n",
    "cat_cols_new\n"
   ]
  },
  {
   "cell_type": "code",
   "execution_count": 9,
   "id": "07ae7e1c",
   "metadata": {},
   "outputs": [],
   "source": [
    "#Train Test Split\n",
    "x_train,x_test,y_train,y_test=train_test_split(tr_df,y,random_state=42,test_size=0.2)\n"
   ]
  },
  {
   "cell_type": "code",
   "execution_count": 10,
   "id": "16d76a86",
   "metadata": {},
   "outputs": [],
   "source": [
    "#Missing Values Replace using Iterative Imputer for cont cols\n",
    "itr=IterativeImputer(estimator =LinearRegression())\n",
    "x_train[['Weight']]=itr.fit_transform(x_train[['Weight']])\n",
    "x_test[['Weight']]=itr.transform(x_test[['Weight']])"
   ]
  },
  {
   "cell_type": "code",
   "execution_count": 11,
   "id": "46b6eb0c",
   "metadata": {},
   "outputs": [],
   "source": [
    "#Missing Values Replace using mode in cat cols\n",
    "for col in cat_cols_new:\n",
    "    x_train[col].fillna(x_train[col].mode()[0],inplace=True)\n",
    "    x_test[col].fillna(x_train[col].mode()[0],inplace=True)"
   ]
  },
  {
   "cell_type": "code",
   "execution_count": 12,
   "id": "0da871bb",
   "metadata": {},
   "outputs": [],
   "source": [
    "#Scaling cont variables\n",
    "scalar=StandardScaler()\n",
    "\n",
    "for col in con_cols_new:\n",
    "    x_train[col]=scalar.fit_transform(np.array(x_train[col]).reshape(-1,1))\n",
    "    x_test[col]=scalar.transform(np.array(x_test[col]).reshape(-1,1))\n"
   ]
  },
  {
   "cell_type": "code",
   "execution_count": 13,
   "id": "fd96ec6a",
   "metadata": {},
   "outputs": [],
   "source": [
    "#One Hot encoding\n",
    "cat_encd_train= pd.get_dummies(x_train[cat_cols_new])\n",
    "cat_encd_test=pd.get_dummies(x_test[cat_cols_new])"
   ]
  },
  {
   "cell_type": "code",
   "execution_count": 14,
   "id": "2578c24f",
   "metadata": {},
   "outputs": [
    {
     "data": {
      "text/plain": [
       "(6818, 1096)"
      ]
     },
     "execution_count": 14,
     "metadata": {},
     "output_type": "execute_result"
    }
   ],
   "source": [
    "#Aliging train data with test data\n",
    "cat_encd_train_final,cat_encd_test_final=cat_encd_train.align(cat_encd_test,join='inner',axis=1)\n",
    "cat_encd_train_final.shape###aligning train & test data one hot encoded catg columns due to unqual no of columns i.e no of cilumns would differ for that we align to get same"
   ]
  },
  {
   "cell_type": "code",
   "execution_count": 15,
   "id": "f961e01e",
   "metadata": {},
   "outputs": [],
   "source": [
    "#concatinating train scaled data & one hot data for both train & test data\n",
    "x_train_final=pd.concat([x_train[con_cols_new],cat_encd_train_final],axis=1)\n",
    "x_test_final=pd.concat([x_test[con_cols_new],cat_encd_test_final],axis=1)"
   ]
  },
  {
   "cell_type": "code",
   "execution_count": 16,
   "id": "589c9970",
   "metadata": {},
   "outputs": [
    {
     "data": {
      "text/plain": [
       "(1705, 1100)"
      ]
     },
     "execution_count": 16,
     "metadata": {},
     "output_type": "execute_result"
    }
   ],
   "source": [
    "x_test_final.shape"
   ]
  },
  {
   "cell_type": "code",
   "execution_count": 17,
   "id": "bae474c6",
   "metadata": {},
   "outputs": [],
   "source": [
    "from sklearn.tree import DecisionTreeRegressor\n",
    "dtree_reg=DecisionTreeRegressor(max_depth=5,min_samples_split=10, min_samples_leaf=10)"
   ]
  },
  {
   "cell_type": "code",
   "execution_count": 18,
   "id": "1cc8a171",
   "metadata": {},
   "outputs": [
    {
     "data": {
      "text/plain": [
       "DecisionTreeRegressor(max_depth=5, min_samples_leaf=10, min_samples_split=10)"
      ]
     },
     "execution_count": 18,
     "metadata": {},
     "output_type": "execute_result"
    }
   ],
   "source": [
    "dtree_reg.fit(x_train_final,y_train)\n"
   ]
  },
  {
   "cell_type": "code",
   "execution_count": 19,
   "id": "e06e3a5b",
   "metadata": {},
   "outputs": [
    {
     "data": {
      "text/plain": [
       "array([1507.07681196,  661.96429679,  661.96429679, ...,  661.96429679,\n",
       "        661.96429679, 1507.07681196])"
      ]
     },
     "execution_count": 19,
     "metadata": {},
     "output_type": "execute_result"
    }
   ],
   "source": [
    "y_test_pred=dtree_reg.predict(x_test_final)\n",
    "y_test_pred\n"
   ]
  },
  {
   "cell_type": "code",
   "execution_count": 20,
   "id": "728cb62c",
   "metadata": {},
   "outputs": [
    {
     "data": {
      "text/plain": [
       "0.6113204488994815"
      ]
     },
     "execution_count": 20,
     "metadata": {},
     "output_type": "execute_result"
    }
   ],
   "source": [
    "dtree_reg.score(x_test_final,y_test)# R2 score for test data"
   ]
  },
  {
   "cell_type": "code",
   "execution_count": 21,
   "id": "34eae3b9",
   "metadata": {},
   "outputs": [
    {
     "data": {
      "text/plain": [
       "0.6006914274684098"
      ]
     },
     "execution_count": 21,
     "metadata": {},
     "output_type": "execute_result"
    }
   ],
   "source": [
    "dtree_reg.score(x_train_final,y_train)"
   ]
  },
  {
   "cell_type": "code",
   "execution_count": 22,
   "id": "afc2d49a",
   "metadata": {},
   "outputs": [
    {
     "data": {
      "text/plain": [
       "0.6113204488994815"
      ]
     },
     "execution_count": 22,
     "metadata": {},
     "output_type": "execute_result"
    }
   ],
   "source": [
    "from sklearn.metrics import r2_score\n",
    "r2_score(y_test,y_test_pred)"
   ]
  },
  {
   "cell_type": "code",
   "execution_count": 23,
   "id": "09dd0f1b",
   "metadata": {},
   "outputs": [
    {
     "data": {
      "text/plain": [
       "1056419.3853972342"
      ]
     },
     "execution_count": 23,
     "metadata": {},
     "output_type": "execute_result"
    }
   ],
   "source": [
    "from sklearn.metrics import mean_squared_error\n",
    "mean_squared_error(y_test,y_test_pred)"
   ]
  },
  {
   "cell_type": "code",
   "execution_count": 29,
   "id": "62325a43",
   "metadata": {},
   "outputs": [],
   "source": [
    "from sklearn.ensemble import RandomForestRegressor\n",
    "#Random Forest Regressor bagging technique\n",
    "rdfc=RandomForestRegressor()\n",
    "rdfc.fit(x_train_final,y_train)\n",
    "rdfc_test_pred=rdfc.predict(x_test_final)\n",
    "rdfc_train_pred=rdfc.predict(x_train_final)"
   ]
  },
  {
   "cell_type": "code",
   "execution_count": 30,
   "id": "649f7e7b",
   "metadata": {},
   "outputs": [
    {
     "data": {
      "text/plain": [
       "0.5610602721789872"
      ]
     },
     "execution_count": 30,
     "metadata": {},
     "output_type": "execute_result"
    }
   ],
   "source": [
    "#R2 score of test data using RF\n",
    "r2_score(y_test,rdfc_test_pred)"
   ]
  },
  {
   "cell_type": "code",
   "execution_count": 31,
   "id": "7edbc7e1",
   "metadata": {},
   "outputs": [
    {
     "data": {
      "text/plain": [
       "0.9373703947883987"
      ]
     },
     "execution_count": 31,
     "metadata": {},
     "output_type": "execute_result"
    }
   ],
   "source": [
    "#R2 score of train data using RF\n",
    "r2_score(y_train,rdfc_train_pred)"
   ]
  },
  {
   "cell_type": "code",
   "execution_count": 33,
   "id": "cf748ad3",
   "metadata": {},
   "outputs": [],
   "source": [
    "from sklearn.model_selection import RandomizedSearchCV\n",
    "# Hyper parameter tuning using Grid serch CV\n",
    "dict={\n",
    "    'n_estimators': [300,500,800],\n",
    "    'max_depth':[5,8],\n",
    "    'min_samples_split':[5,3],\n",
    "    'min_samples_leaf':[1,2]\n",
    "    } \n",
    "\n",
    "rsv=RandomizedSearchCV(rdfc,dict,cv=5)"
   ]
  },
  {
   "cell_type": "code",
   "execution_count": 34,
   "id": "51e82b17",
   "metadata": {},
   "outputs": [
    {
     "data": {
      "text/plain": [
       "RandomizedSearchCV(cv=5, estimator=RandomForestRegressor(),\n",
       "                   param_distributions={'max_depth': [5, 8],\n",
       "                                        'min_samples_leaf': [1, 2],\n",
       "                                        'min_samples_split': [5, 3],\n",
       "                                        'n_estimators': [300, 500, 800]})"
      ]
     },
     "execution_count": 34,
     "metadata": {},
     "output_type": "execute_result"
    }
   ],
   "source": [
    "rsv.fit(x_train_final,y_train)"
   ]
  },
  {
   "cell_type": "code",
   "execution_count": 35,
   "id": "f5c23e46",
   "metadata": {},
   "outputs": [
    {
     "data": {
      "text/plain": [
       "{'n_estimators': 500,\n",
       " 'min_samples_split': 5,\n",
       " 'min_samples_leaf': 2,\n",
       " 'max_depth': 5}"
      ]
     },
     "execution_count": 35,
     "metadata": {},
     "output_type": "execute_result"
    }
   ],
   "source": [
    "rsv.best_params_"
   ]
  },
  {
   "cell_type": "code",
   "execution_count": 39,
   "id": "de606552",
   "metadata": {},
   "outputs": [],
   "source": [
    "rsv_test_pred=rsv.predict(x_test_final)\n",
    "rsv_train_pred=rsv.predict(x_train_final)"
   ]
  },
  {
   "cell_type": "code",
   "execution_count": 40,
   "id": "53f696e3",
   "metadata": {},
   "outputs": [
    {
     "data": {
      "text/plain": [
       "0.6166270614003291"
      ]
     },
     "execution_count": 40,
     "metadata": {},
     "output_type": "execute_result"
    }
   ],
   "source": [
    "#R2 score of test data using RF\n",
    "r2_score(y_test,rsv_test_pred)"
   ]
  },
  {
   "cell_type": "code",
   "execution_count": 42,
   "id": "fd3161ab",
   "metadata": {},
   "outputs": [
    {
     "data": {
      "text/plain": [
       "0.6077635206028957"
      ]
     },
     "execution_count": 42,
     "metadata": {},
     "output_type": "execute_result"
    }
   ],
   "source": [
    "#R2 score of train data using RF\n",
    "r2_score(y_train,rsv_train_pred)"
   ]
  },
  {
   "cell_type": "code",
   "execution_count": 58,
   "id": "2e43cee0",
   "metadata": {},
   "outputs": [],
   "source": [
    "from sklearn.ensemble import  AdaBoostRegressor\n",
    "#Ada Boost Regressor technique\n",
    "adrg=AdaBoostRegressor(base_estimator=LinearRegression(),n_estimators=500)\n",
    "adrg.fit(x_train_final,y_train)\n",
    "adrg_test_pred=adrg.predict(x_test_final)\n",
    "adrg_train_pred=adrg.predict(x_train_final)"
   ]
  },
  {
   "cell_type": "code",
   "execution_count": 59,
   "id": "4705cd9c",
   "metadata": {},
   "outputs": [
    {
     "data": {
      "text/plain": [
       "0.5281397087350339"
      ]
     },
     "execution_count": 59,
     "metadata": {},
     "output_type": "execute_result"
    }
   ],
   "source": [
    "#R2 score of test data using AdaBoost Boosting technique\n",
    "r2_score(y_test,adrg_test_pred)"
   ]
  },
  {
   "cell_type": "code",
   "execution_count": 60,
   "id": "75ea4fb9",
   "metadata": {},
   "outputs": [
    {
     "data": {
      "text/plain": [
       "0.568992519575088"
      ]
     },
     "execution_count": 60,
     "metadata": {},
     "output_type": "execute_result"
    }
   ],
   "source": [
    "#R2 score of train data using AdaBoost Boosting technique\n",
    "r2_score(y_train,adrg_train_pred)\n"
   ]
  }
 ],
 "metadata": {
  "kernelspec": {
   "display_name": "Python 3 (ipykernel)",
   "language": "python",
   "name": "python3"
  },
  "language_info": {
   "codemirror_mode": {
    "name": "ipython",
    "version": 3
   },
   "file_extension": ".py",
   "mimetype": "text/x-python",
   "name": "python",
   "nbconvert_exporter": "python",
   "pygments_lexer": "ipython3",
   "version": "3.9.7"
  }
 },
 "nbformat": 4,
 "nbformat_minor": 5
}
